{
 "cells": [
  {
   "cell_type": "code",
   "execution_count": 1,
   "id": "bae6942e",
   "metadata": {},
   "outputs": [
    {
     "name": "stdout",
     "output_type": "stream",
     "text": [
      "(1, 'pbkdf2_sha256$1000000$cm161im9Vcru12KS9a58x6$2a4sMJ+swg4OZxozRGFNQkt4HWukMuAaTvG7WoNICTU=', '2025-08-07 20:42:04.536557', 1, 'admin', '', 'admin@example.com', 1, 1, '2025-08-07 19:43:18.647920', '')\n",
      "(2, 'pbkdf2_sha256$1000000$eKC05iFQGYNhDexq6d3VoV$dur9wOnizt5F7g2xCivFFxpHX7QR9g587W9KKmiaT8Q=', None, 0, 'dostugir', 'Dostugir', 'dostugir@gmail.com', 1, 1, '2025-08-07 20:38:16', 'Aziz')\n",
      "(3, 'pbkdf2_sha256$1000000$fpTR3i1ITPvOaaE6lxqj6p$cZBbra5L0Jlr3aUd1b0UEsdCnf4LOa3CVbUg0eXt1Ag=', None, 0, 'dostugir2002', '', 'dostugir2002@gmail.com', 0, 1, '2025-08-07 20:40:06.989303', '')\n",
      "(4, 'pbkdf2_sha256$1000000$8WJ7pso0b7Uf5GQQL4GXJy$jJlU9s5tulbPNp4C5M1I8T55HKt9p4wMXx3N4Mq3xmk=', None, 0, 'aziz', '', 'Aziz@gmail.com', 0, 1, '2025-08-07 20:47:59', '')\n"
     ]
    }
   ],
   "source": [
    "import sqlite3\n",
    "\n",
    "# Example: Access data from the default SQLite database used by Django (db.sqlite3)\n",
    "conn = sqlite3.connect('db.sqlite3')\n",
    "cursor = conn.cursor()\n",
    "\n",
    "# Example: Fetch all rows from the auth_user table\n",
    "cursor.execute(\"SELECT * FROM auth_user\")\n",
    "rows = cursor.fetchall()\n",
    "\n",
    "for row in rows:\n",
    "    print(row)\n",
    "\n",
    "cursor.close()\n",
    "conn.close()\n"
   ]
  },
  {
   "cell_type": "code",
   "execution_count": 2,
   "id": "d1daff7d",
   "metadata": {},
   "outputs": [
    {
     "name": "stdout",
     "output_type": "stream",
     "text": [
      "Username: admin, Password Hash: pbkdf2_sha256$1000000$cm161im9Vcru12KS9a58x6$2a4sMJ+swg4OZxozRGFNQkt4HWukMuAaTvG7WoNICTU=\n",
      "Username: dostugir, Password Hash: pbkdf2_sha256$1000000$eKC05iFQGYNhDexq6d3VoV$dur9wOnizt5F7g2xCivFFxpHX7QR9g587W9KKmiaT8Q=\n",
      "Username: dostugir2002, Password Hash: pbkdf2_sha256$1000000$fpTR3i1ITPvOaaE6lxqj6p$cZBbra5L0Jlr3aUd1b0UEsdCnf4LOa3CVbUg0eXt1Ag=\n",
      "Username: aziz, Password Hash: pbkdf2_sha256$1000000$8WJ7pso0b7Uf5GQQL4GXJy$jJlU9s5tulbPNp4C5M1I8T55HKt9p4wMXx3N4Mq3xmk=\n"
     ]
    }
   ],
   "source": [
    "import sqlite3\n",
    "\n",
    "conn = sqlite3.connect('db.sqlite3')\n",
    "cursor = conn.cursor()\n",
    "\n",
    "# Fetch username and password hash from auth_user table\n",
    "cursor.execute(\"SELECT username, password FROM auth_user\")\n",
    "users = cursor.fetchall()\n",
    "\n",
    "for user in users:\n",
    "    print(f\"Username: {user[0]}, Password Hash: {user[1]}\")\n",
    "\n",
    "cursor.close()\n",
    "conn.close()\n"
   ]
  }
 ],
 "metadata": {
  "kernelspec": {
   "display_name": ".venv",
   "language": "python",
   "name": "python3"
  },
  "language_info": {
   "codemirror_mode": {
    "name": "ipython",
    "version": 3
   },
   "file_extension": ".py",
   "mimetype": "text/x-python",
   "name": "python",
   "nbconvert_exporter": "python",
   "pygments_lexer": "ipython3",
   "version": "3.13.7"
  }
 },
 "nbformat": 4,
 "nbformat_minor": 5
}
